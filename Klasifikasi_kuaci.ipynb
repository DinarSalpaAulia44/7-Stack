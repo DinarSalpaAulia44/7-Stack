{
  "nbformat": 4,
  "nbformat_minor": 0,
  "metadata": {
    "colab": {
      "provenance": [],
      "authorship_tag": "ABX9TyMo2Rl/L0LMWJSaQjWrUfK2",
      "include_colab_link": true
    },
    "kernelspec": {
      "name": "python3",
      "display_name": "Python 3"
    },
    "language_info": {
      "name": "python"
    }
  },
  "cells": [
    {
      "cell_type": "markdown",
      "metadata": {
        "id": "view-in-github",
        "colab_type": "text"
      },
      "source": [
        "<a href=\"https://colab.research.google.com/github/DinarSalpaAulia44/7-Stack/blob/main/Klasifikasi_kuaci.ipynb\" target=\"_parent\"><img src=\"https://colab.research.google.com/assets/colab-badge.svg\" alt=\"Open In Colab\"/></a>"
      ]
    },
    {
      "cell_type": "code",
      "source": [
        "from pyspark.sql import SparkSession\n",
        "from pyspark.sql.functions import when\n",
        "from pyspark.ml import Pipeline\n",
        "from pyspark.ml.feature import (\n",
        "    Tokenizer, StopWordsRemover, CountVectorizer, IDF,\n",
        "    StringIndexer, OneHotEncoder, VectorAssembler, StandardScaler\n",
        ")\n",
        "from pyspark.ml.classification import RandomForestClassifier\n",
        "from pyspark.ml.evaluation import MulticlassClassificationEvaluator"
      ],
      "metadata": {
        "id": "-oRYHdLOLyzd"
      },
      "execution_count": 27,
      "outputs": []
    },
    {
      "cell_type": "code",
      "source": [
        "# Inisialisasi SparkSession\n",
        "spark = SparkSession.builder \\\n",
        "    .appName(\"ShopeeProductClassification\") \\\n",
        "    .getOrCreate()\n",
        "\n",
        "# Load data CSV\n",
        "df = spark.read.csv(\"/content/kuaci1kg_cleaned.csv\", header=True, inferSchema=True)\n",
        "\n",
        "#tampilkan data\n",
        "df.show(5)\n"
      ],
      "metadata": {
        "colab": {
          "base_uri": "https://localhost:8080/"
        },
        "id": "BwRmWBryL1Jx",
        "outputId": "2a1fe63a-4e97-4594-c9b0-3474b801c5c2"
      },
      "execution_count": 28,
      "outputs": [
        {
          "output_type": "stream",
          "name": "stdout",
          "text": [
            "+--------------------+------+--------------+---------+-----+\n",
            "|         Nama Produk| Harga|        Alamat|penjualan|price|\n",
            "+--------------------+------+--------------+---------+-----+\n",
            "|Pumpkin Seed 1kg ...|89.999|Kab. Tangerang|     1800|89999|\n",
            "|Roasted Organic S...| 10.99|        Cimahi|     5000| 1099|\n",
            "|Organic Paradise ...|  23.2| Jakarta Utara|      757|  232|\n",
            "|Mola Kuaci Kupas ...| 15.64|         Depok|      995| 1564|\n",
            "|KUACI | KWACI PUT...| 107.0|         Medan|       72| 1070|\n",
            "+--------------------+------+--------------+---------+-----+\n",
            "only showing top 5 rows\n",
            "\n"
          ]
        }
      ]
    },
    {
      "cell_type": "code",
      "source": [
        "# 1. Buat label klasifikasi berdasarkan kolom terjual\n",
        "df = df.withColumn(\n",
        "    \"label\",\n",
        "    when(df.penjualan < 100, 0) \\\n",
        "    .when((df.penjualan >= 100) & (df.penjualan < 1000), 1) \\\n",
        "    .otherwise(2)\n",
        ")"
      ],
      "metadata": {
        "id": "WKsKooIcL2TG"
      },
      "execution_count": 29,
      "outputs": []
    },
    {
      "cell_type": "code",
      "source": [
        "# 2. Transform Judul\n",
        "tokenizer = Tokenizer(inputCol=\"Nama Produk\", outputCol=\"words\")\n",
        "remover = StopWordsRemover(inputCol=\"words\", outputCol=\"filtered_words\")\n",
        "vectorizer = CountVectorizer(inputCol=\"filtered_words\", outputCol=\"rawFeatures\")\n",
        "idf = IDF(inputCol=\"rawFeatures\", outputCol=\"title_features\")"
      ],
      "metadata": {
        "id": "tjrqYTgAL76f"
      },
      "execution_count": 30,
      "outputs": []
    },
    {
      "cell_type": "code",
      "source": [
        "# 3. Transform Lokasi\n",
        "tempat_indexer = StringIndexer(inputCol=\"Alamat\", outputCol=\"tempat_index\", handleInvalid=\"keep\")\n",
        "tempat_encoder = OneHotEncoder(inputCol=\"tempat_index\", outputCol=\"tempat_encoded\")"
      ],
      "metadata": {
        "id": "5RJw73p4MBF5"
      },
      "execution_count": 31,
      "outputs": []
    },
    {
      "cell_type": "code",
      "source": [
        "# 4. Scaling fitur harga\n",
        "harga_assembler = VectorAssembler(inputCols=[\"Harga\"], outputCol=\"harga_vec\")\n",
        "harga_scaler = StandardScaler(inputCol=\"harga_vec\", outputCol=\"harga_scaled\")"
      ],
      "metadata": {
        "id": "8RZN-YJhMGBR"
      },
      "execution_count": 32,
      "outputs": []
    },
    {
      "cell_type": "code",
      "source": [
        "# 5. Gabungkan semua fitur menjadi vector features\n",
        "feature_assembler = VectorAssembler(\n",
        "    inputCols=[\"title_features\", \"tempat_encoded\", \"harga_scaled\"],\n",
        "    outputCol=\"features\"\n",
        ")"
      ],
      "metadata": {
        "id": "u1KpH6a4MJBP"
      },
      "execution_count": 33,
      "outputs": []
    },
    {
      "cell_type": "code",
      "source": [
        "# 6. Definisikan model klasifikasi RandomForest\n",
        "classifier = RandomForestClassifier(featuresCol=\"features\", labelCol=\"label\", seed=42)"
      ],
      "metadata": {
        "id": "sGgUoV-2MOTO"
      },
      "execution_count": 34,
      "outputs": []
    },
    {
      "cell_type": "code",
      "source": [
        "# 7. Buat pipeline lengkap\n",
        "pipeline = Pipeline(stages=[\n",
        "    tokenizer,\n",
        "    remover,\n",
        "    vectorizer,\n",
        "    idf,\n",
        "    tempat_indexer,\n",
        "    tempat_encoder,\n",
        "    harga_assembler,\n",
        "    harga_scaler,\n",
        "    feature_assembler,\n",
        "    classifier\n",
        "])"
      ],
      "metadata": {
        "id": "Y4Wt2Gh6MTc1"
      },
      "execution_count": 35,
      "outputs": []
    },
    {
      "cell_type": "code",
      "source": [
        "# 8. Bagi data train-test split\n",
        "train_df, test_df = df.randomSplit([0.8, 0.2], seed=42)\n",
        "\n",
        "# 9. Latih model\n",
        "model = pipeline.fit(train_df)\n",
        "\n",
        "# 10. Prediksi di data test\n",
        "predictions = model.transform(test_df)"
      ],
      "metadata": {
        "id": "FxqLrT4aMVIw"
      },
      "execution_count": 36,
      "outputs": []
    },
    {
      "cell_type": "code",
      "source": [
        "# 11. Evaluasi akurasi\n",
        "evaluator = MulticlassClassificationEvaluator(labelCol=\"label\", predictionCol=\"prediction\", metricName=\"accuracy\")\n",
        "accuracy = evaluator.evaluate(predictions)\n",
        "print(f\"Accuracy: {accuracy}\")"
      ],
      "metadata": {
        "colab": {
          "base_uri": "https://localhost:8080/"
        },
        "id": "s8vlBnY7Mcpt",
        "outputId": "4e36c738-4050-46cc-ec44-f518bacd1e6b"
      },
      "execution_count": 37,
      "outputs": [
        {
          "output_type": "stream",
          "name": "stdout",
          "text": [
            "Accuracy: 0.46153846153846156\n"
          ]
        }
      ]
    },
    {
      "cell_type": "code",
      "source": [
        "\n",
        "# 12. Classification\n",
        "\n",
        "# Tambahkan kolom label_name\n",
        "predictions = predictions.withColumn(\n",
        "    \"label_name\",\n",
        "    when(predictions.label == 0, \"Low\") \\\n",
        "    .when(predictions.label == 1, \"Medium\") \\\n",
        "    .otherwise(\"High\")\n",
        ")\n",
        "\n",
        "# (Opsional) Tambahkan juga prediksi label_name\n",
        "predictions = predictions.withColumn(\n",
        "    \"predicted_label_name\",\n",
        "    when(predictions.prediction == 0, \"Low\") \\\n",
        "    .when(predictions.prediction == 1, \"Medium\") \\\n",
        "    .otherwise(\"High\")\n",
        ")\n",
        "\n",
        "predictions.select(\"Nama Produk\", \"Harga\", \"penjualan\",\"Alamat\", \"label_name\", \"prediction\").show(100)"
      ],
      "metadata": {
        "colab": {
          "base_uri": "https://localhost:8080/"
        },
        "id": "t5Qtjw2VMitN",
        "outputId": "7daa60a1-f0a6-4e73-8d1e-66ec2e125227"
      },
      "execution_count": 39,
      "outputs": [
        {
          "output_type": "stream",
          "name": "stdout",
          "text": [
            "+--------------------+------+---------+------------------+----------+----------+\n",
            "|         Nama Produk| Harga|penjualan|            Alamat|label_name|prediction|\n",
            "+--------------------+------+---------+------------------+----------+----------+\n",
            "|1kg RAW Sunflower...|  47.9|      889|          Surabaya|    Medium|       1.0|\n",
            "|500gr Biji Bunga ...|  31.0|       91|           Bandung|       Low|       1.0|\n",
            "|Cemilan Kuaci Bij...|99.999|      253|          Surabaya|    Medium|       1.0|\n",
            "|KUACI PUTIH 500 G...|45.999|      904|     Jakarta Pusat|    Medium|       1.0|\n",
            "|Kuaci Bunga Matah...|  9.99|      920|         Tangerang|    Medium|       1.0|\n",
            "|Kuaci Rebo Kiloan...|49.999|      724|    Kab. Sukoharjo|    Medium|       0.0|\n",
            "|Kwaci Super Bunga...|  90.0|       38|          Surabaya|       Low|       1.0|\n",
            "|Organic Raw Sunfl...|  45.0|      997|    Kab. Tangerang|    Medium|       1.0|\n",
            "|Raw Sunflower See...|  45.5|     2200|Kab. Bandung Barat|      High|       1.0|\n",
            "|Rebo Kuaci Rasa O...|   8.2|     1900|         Tangerang|      High|       1.0|\n",
            "|Roasted Organic S...| 10.99|     5000|            Cimahi|      High|       1.0|\n",
            "|Sunflower Seed Bi...|  30.0|      618|   Jakarta Selatan|    Medium|       1.0|\n",
            "|Sunflower Seed Ro...|  57.0|     2300|          Surabaya|      High|       1.0|\n",
            "+--------------------+------+---------+------------------+----------+----------+\n",
            "\n"
          ]
        }
      ]
    },
    {
      "cell_type": "code",
      "source": [
        "import matplotlib.pyplot as plt\n",
        "import seaborn as sns\n",
        "from sklearn.metrics import confusion_matrix, ConfusionMatrixDisplay\n",
        "\n",
        "# Konversi DataFrame PySpark ke Pandas\n",
        "# Pilih kolom yang relevan untuk confusion matrix\n",
        "pandas_df = predictions.select(\"label_name\", \"prediction\").toPandas()\n",
        "\n",
        "# Konversi kolom 'prediction' menjadi string agar sesuai dengan tipe data 'label_name'\n",
        "# Gunakan mapping yang sama seperti saat membuat 'predicted_label_name'\n",
        "pandas_df['prediction'] = pandas_df['prediction'].apply(\n",
        "    lambda x: 'Low' if x == 0 else ('Medium' if x == 1 else 'High')\n",
        ")\n",
        "\n",
        "\n",
        "# Confusion Matrix\n",
        "# Gunakan string labels untuk kedua argumen\n",
        "cm = confusion_matrix(pandas_df['label_name'], pandas_df['prediction'])\n",
        "# Dapatkan unique labels dari kolom string\n",
        "labels = sorted(pandas_df['label_name'].unique())\n",
        "\n",
        "# Visualisasi Confusion Matrix\n",
        "plt.figure(figsize=(8, 6))\n",
        "# Pastikan order label di heatmap sama dengan order di confusion matrix\n",
        "sns.heatmap(cm, annot=True, fmt='d', xticklabels=labels, yticklabels=labels, cmap=\"Blues\")\n",
        "plt.xlabel(\"Predicted Label\")\n",
        "plt.ylabel(\"True Label\")\n",
        "plt.title(\"Confusion Matrix\")\n",
        "plt.show()"
      ],
      "metadata": {
        "colab": {
          "base_uri": "https://localhost:8080/",
          "height": 564
        },
        "id": "lZoJiMQLMlV6",
        "outputId": "871314c5-e3a9-44df-b2c5-68dffb33a4bd"
      },
      "execution_count": 40,
      "outputs": [
        {
          "output_type": "display_data",
          "data": {
            "text/plain": [
              "<Figure size 800x600 with 2 Axes>"
            ],
            "image/png": "[encoded data removed]"
          },
          "metadata": {}
        }
      ]
    },
    {
      "cell_type": "code",
      "source": [
        "sns.countplot(x=\"prediction\", data=pandas_df)\n",
        "plt.title(\"Distribusi Hasil Klasisfikasi\")\n",
        "plt.xlabel(\"Label Class\")\n",
        "plt.ylabel(\"Jumlah Data\")\n",
        "plt.show()"
      ],
      "metadata": {
        "colab": {
          "base_uri": "https://localhost:8080/",
          "height": 472
        },
        "id": "nLz_Vdh-MtUD",
        "outputId": "b6b0dbb5-46b7-44d1-ee9c-fe07fd96669f"
      },
      "execution_count": 41,
      "outputs": [
        {
          "output_type": "display_data",
          "data": {
            "text/plain": [
              "<Figure size 640x480 with 1 Axes>"
            ],
            "image/png": "[encoded data removed]"
          },
          "metadata": {}
        }
      ]
    },
    {
      "cell_type": "code",
      "source": [
        "save = predictions.select(\"Nama Produk\", \"Harga\", \"penjualan\",\"Alamat\", \"label_name\", \"prediction\")\n",
        "save.write.csv(\"predictions.csv\", header=True)"
      ],
      "metadata": {
        "id": "IpYH-AJTMzfy"
      },
      "execution_count": 43,
      "outputs": []
    }
  ]
}